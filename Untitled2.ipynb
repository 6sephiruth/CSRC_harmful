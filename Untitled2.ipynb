{
 "cells": [
  {
   "cell_type": "code",
   "execution_count": 1,
   "id": "f7bef3f6",
   "metadata": {},
   "outputs": [],
   "source": [
    "a = [10, 20, 30, 40]\n",
    "\n",
    "b = [1,3,5,6]"
   ]
  },
  {
   "cell_type": "code",
   "execution_count": 3,
   "id": "cc7329dc",
   "metadata": {},
   "outputs": [
    {
     "name": "stdout",
     "output_type": "stream",
     "text": [
      "{10: 1, 20: 3, 30: 5, 40: 6}\n"
     ]
    }
   ],
   "source": [
    "aa = dict(zip(a, b))\n",
    "print(aa)"
   ]
  },
  {
   "cell_type": "code",
   "execution_count": 9,
   "id": "243aa143",
   "metadata": {},
   "outputs": [
    {
     "name": "stdout",
     "output_type": "stream",
     "text": [
      "{30: 40, 20: 50, 10: 60, 90: 7}\n"
     ]
    }
   ],
   "source": [
    "c = [30, 20, 10, 90]\n",
    "d = [40,50,60,7]\n",
    "\n",
    "cc = dict(zip(c, d))\n",
    "print(cc)"
   ]
  },
  {
   "cell_type": "code",
   "execution_count": 12,
   "id": "62da3a6c",
   "metadata": {},
   "outputs": [
    {
     "data": {
      "text/plain": [
       "{40: 6, 10: 61, 20: 53, 90: 7, 30: 45}"
      ]
     },
     "execution_count": 12,
     "metadata": {},
     "output_type": "execute_result"
    }
   ],
   "source": [
    "dd = {k: aa.get(k, 0) + cc.get(k, 0) for k in set(aa) | set(cc)}\n",
    "dd"
   ]
  },
  {
   "cell_type": "code",
   "execution_count": 16,
   "id": "3eb3bde5",
   "metadata": {},
   "outputs": [],
   "source": [
    "liss = []\n",
    "for i in dd.keys():\n",
    "    liss.append(i)"
   ]
  },
  {
   "cell_type": "code",
   "execution_count": 17,
   "id": "004a31df",
   "metadata": {},
   "outputs": [
    {
     "data": {
      "text/plain": [
       "[40, 10, 20, 90, 30]"
      ]
     },
     "execution_count": 17,
     "metadata": {},
     "output_type": "execute_result"
    }
   ],
   "source": [
    "liss"
   ]
  },
  {
   "cell_type": "code",
   "execution_count": 20,
   "id": "5566d1c6",
   "metadata": {},
   "outputs": [],
   "source": [
    "import numpy as np\n",
    "\n",
    "sort_num = sorted(liss, reverse=True)"
   ]
  },
  {
   "cell_type": "code",
   "execution_count": 22,
   "id": "bcd26282",
   "metadata": {},
   "outputs": [
    {
     "data": {
      "text/plain": [
       "(array([], dtype=int64),)"
      ]
     },
     "execution_count": 22,
     "metadata": {},
     "output_type": "execute_result"
    }
   ],
   "source": [
    "np.where(liss == sort_num)"
   ]
  },
  {
   "cell_type": "code",
   "execution_count": null,
   "id": "2f4f2cc9",
   "metadata": {},
   "outputs": [],
   "source": [
    "x = {'both1': 1, 'both2': 2, 'only_x': 100}\n",
    "y = {'both1': 10, 'both2': 20, 'only_y': 200}\n",
    "\n",
    "print {k: x.get(k, 0) + y.get(k, 0) for k in set(x)}\n",
    "print {k: x.get(k, 0) + y.get(k, 0) for k in set(x) & set(y)}\n",
    "print {k: x.get(k, 0) + y.get(k, 0) for k in set(x) | set(y)}"
   ]
  },
  {
   "cell_type": "code",
   "execution_count": 23,
   "id": "766ce695",
   "metadata": {},
   "outputs": [
    {
     "name": "stdout",
     "output_type": "stream",
     "text": [
      "d\n"
     ]
    }
   ],
   "source": [
    "a = 0.0\n",
    "b = 0\n",
    "\n",
    "if a == b:\n",
    "    print(\"d\")"
   ]
  },
  {
   "cell_type": "code",
   "execution_count": null,
   "id": "afd5fde1",
   "metadata": {},
   "outputs": [],
   "source": []
  }
 ],
 "metadata": {
  "kernelspec": {
   "display_name": "Python 3 (ipykernel)",
   "language": "python",
   "name": "python3"
  },
  "language_info": {
   "codemirror_mode": {
    "name": "ipython",
    "version": 3
   },
   "file_extension": ".py",
   "mimetype": "text/x-python",
   "name": "python",
   "nbconvert_exporter": "python",
   "pygments_lexer": "ipython3",
   "version": "3.10.4"
  }
 },
 "nbformat": 4,
 "nbformat_minor": 5
}
