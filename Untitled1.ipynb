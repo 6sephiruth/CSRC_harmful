{
 "cells": [
  {
   "cell_type": "code",
   "execution_count": 1,
   "id": "f851271d",
   "metadata": {},
   "outputs": [
    {
     "name": "stderr",
     "output_type": "stream",
     "text": [
      "2022-08-10 06:42:57.500172: I tensorflow/core/util/util.cc:169] oneDNN custom operations are on. You may see slightly different numerical results due to floating-point round-off errors from different computation orders. To turn them off, set the environment variable `TF_ENABLE_ONEDNN_OPTS=0`.\n",
      "/usr/lib/python3/dist-packages/pkg_resources/__init__.py:116: PkgResourcesDeprecationWarning: 1.1build1 is an invalid version and will not be supported in a future release\n",
      "  warnings.warn(\n",
      "/usr/lib/python3/dist-packages/pkg_resources/__init__.py:116: PkgResourcesDeprecationWarning: 0.1.43ubuntu1 is an invalid version and will not be supported in a future release\n",
      "  warnings.warn(\n"
     ]
    }
   ],
   "source": [
    "import tensorflow as tf\n",
    "import xgboost as xgb\n",
    "import numpy as np\n",
    "from sklearn.metrics import accuracy_score\n",
    "\n",
    "import pandas as pd\n",
    "\n",
    "gamble_dataset = pd.read_csv(\"./dataset/raw_gamble.csv\")\n",
    "gamble_dataset = pd.DataFrame(gamble_dataset.drop('Unnamed: 0', axis=1))\n",
    "\n",
    "ad_dataset = pd.read_csv(\"./dataset/raw_advertisement.csv\")\n",
    "ad_dataset = pd.DataFrame(ad_dataset.drop('Unnamed: 0', axis=1))\n",
    "\n",
    "white_dataset = pd.read_csv(\"./dataset/raw_white.csv\")\n",
    "white_dataset = pd.DataFrame(white_dataset.drop('Unnamed: 0', axis=1))\n"
   ]
  },
  {
   "cell_type": "code",
   "execution_count": 2,
   "id": "831c62e0",
   "metadata": {},
   "outputs": [
    {
     "data": {
      "text/plain": [
       "(1233, 21881)"
      ]
     },
     "execution_count": 2,
     "metadata": {},
     "output_type": "execute_result"
    }
   ],
   "source": [
    "gamble_dataset.shape"
   ]
  },
  {
   "cell_type": "code",
   "execution_count": 3,
   "id": "ebc08f7a",
   "metadata": {},
   "outputs": [
    {
     "data": {
      "text/plain": [
       "(632, 54658)"
      ]
     },
     "execution_count": 3,
     "metadata": {},
     "output_type": "execute_result"
    }
   ],
   "source": [
    "ad_datasettasetdataset.shape"
   ]
  },
  {
   "cell_type": "code",
   "execution_count": 4,
   "id": "22cffe11",
   "metadata": {},
   "outputs": [
    {
     "data": {
      "text/plain": [
       "(485, 57775)"
      ]
     },
     "execution_count": 4,
     "metadata": {},
     "output_type": "execute_result"
    }
   ],
   "source": [
    "white_dataset.shape"
   ]
  },
  {
   "cell_type": "code",
   "execution_count": null,
   "id": "c8716367",
   "metadata": {},
   "outputs": [],
   "source": []
  }
 ],
 "metadata": {
  "kernelspec": {
   "display_name": "Python 3 (ipykernel)",
   "language": "python",
   "name": "python3"
  },
  "language_info": {
   "codemirror_mode": {
    "name": "ipython",
    "version": 3
   },
   "file_extension": ".py",
   "mimetype": "text/x-python",
   "name": "python",
   "nbconvert_exporter": "python",
   "pygments_lexer": "ipython3",
   "version": "3.10.4"
  }
 },
 "nbformat": 4,
 "nbformat_minor": 5
}
